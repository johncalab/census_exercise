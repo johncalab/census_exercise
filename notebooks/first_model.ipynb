{
 "cells": [
  {
   "cell_type": "markdown",
   "metadata": {},
   "source": [
    "# Baseline\n",
    "Let's train a simple Logistic Regression with defaults as a baseline model.\n",
    "Note that we use sample weights in training and evaluating."
   ]
  },
  {
   "cell_type": "code",
   "execution_count": 14,
   "metadata": {},
   "outputs": [],
   "source": [
    "from preprocess import *"
   ]
  },
  {
   "cell_type": "code",
   "execution_count": 15,
   "metadata": {},
   "outputs": [],
   "source": [
    "import pandas as pd\n",
    "path_to_data = 'census-income.data'\n",
    "path_to_columns = 'census-income.columns'\n",
    "df,var_cont,var_disc = load_for_training(path_to_data, path_to_columns, make_dummies=False)"
   ]
  },
  {
   "cell_type": "code",
   "execution_count": 16,
   "metadata": {},
   "outputs": [],
   "source": [
    "# start by making a train_test_split\n",
    "from sklearn.model_selection import train_test_split\n",
    "df_train, df_test = train_test_split(df,\n",
    "                                     random_state=7,\n",
    "                                     test_size=0.20,\n",
    "                                     shuffle=True,\n",
    "                                     stratify=df['label_encoded'])"
   ]
  },
  {
   "cell_type": "code",
   "execution_count": 17,
   "metadata": {},
   "outputs": [],
   "source": [
    "# split inputs, outputs, and weights\n",
    "x_train, y_train, w_train = df_train.drop(columns=['label_encoded', 'instance weight']), df_train['label_encoded'], df_train['instance weight']\n",
    "x_test, y_test, w_test = df_test.drop(columns=['label_encoded', 'instance weight']), df_test['label_encoded'], df_test['instance weight']"
   ]
  },
  {
   "cell_type": "code",
   "execution_count": 18,
   "metadata": {},
   "outputs": [],
   "source": [
    "from sklearn.pipeline import Pipeline\n",
    "from sklearn.preprocessing import OneHotEncoder, StandardScaler\n",
    "from sklearn.compose import ColumnTransformer\n",
    "from sklearn.linear_model import LogisticRegression\n",
    "\n",
    "\n",
    "col_pipe = ColumnTransformer(\n",
    "       # remainder='passthrough', # default is to drop other columns\n",
    "        transformers=[\n",
    "            ('std_scal', StandardScaler() , list(var_cont)),\n",
    "            ('one_hot', OneHotEncoder(handle_unknown='ignore') , list(var_disc))\n",
    "        ])\n",
    "\n",
    "model = Pipeline(steps=[ ('col_transf', col_pipe), ('logreg', LogisticRegression()) ])\n",
    "# pipe = Pipeline(steps=[\n",
    "#     ('cols', col_pipe),\n",
    "#     ('clf', LogisticRegression(penalty='l1')) ])"
   ]
  },
  {
   "cell_type": "code",
   "execution_count": 19,
   "metadata": {},
   "outputs": [
    {
     "name": "stderr",
     "output_type": "stream",
     "text": [
      "/anaconda3/envs/brats/lib/python3.7/site-packages/sklearn/linear_model/logistic.py:432: FutureWarning: Default solver will be changed to 'lbfgs' in 0.22. Specify a solver to silence this warning.\n",
      "  FutureWarning)\n"
     ]
    },
    {
     "data": {
      "text/plain": [
       "Pipeline(memory=None,\n",
       "         steps=[('col_transf',\n",
       "                 ColumnTransformer(n_jobs=None, remainder='drop',\n",
       "                                   sparse_threshold=0.3,\n",
       "                                   transformer_weights=None,\n",
       "                                   transformers=[('std_scal',\n",
       "                                                  StandardScaler(copy=True,\n",
       "                                                                 with_mean=True,\n",
       "                                                                 with_std=True),\n",
       "                                                  ['wage per hour', 'age',\n",
       "                                                   'weeks worked in year',\n",
       "                                                   'dividends from stocks',\n",
       "                                                   'capital gains',\n",
       "                                                   'capital losses',\n",
       "                                                   'num persons worked for '\n",
       "                                                   'employer']),\n",
       "                                                 ('one_...\n",
       "                                                   'region of previous '\n",
       "                                                   'residence',\n",
       "                                                   'year_encoded', 'country',\n",
       "                                                   'enroll in edu inst last '\n",
       "                                                   'wk'])],\n",
       "                                   verbose=False)),\n",
       "                ('logreg',\n",
       "                 LogisticRegression(C=1.0, class_weight=None, dual=False,\n",
       "                                    fit_intercept=True, intercept_scaling=1,\n",
       "                                    l1_ratio=None, max_iter=100,\n",
       "                                    multi_class='warn', n_jobs=None,\n",
       "                                    penalty='l2', random_state=None,\n",
       "                                    solver='warn', tol=0.0001, verbose=0,\n",
       "                                    warm_start=False))],\n",
       "         verbose=False)"
      ]
     },
     "execution_count": 19,
     "metadata": {},
     "output_type": "execute_result"
    }
   ],
   "source": [
    "model.fit(x_train,y_train, logreg__sample_weight=w_train)"
   ]
  },
  {
   "cell_type": "code",
   "execution_count": 20,
   "metadata": {},
   "outputs": [
    {
     "name": "stdout",
     "output_type": "stream",
     "text": [
      "Traning score is:\n"
     ]
    },
    {
     "data": {
      "text/plain": [
       "0.49546050849929746"
      ]
     },
     "execution_count": 20,
     "metadata": {},
     "output_type": "execute_result"
    }
   ],
   "source": [
    "from sklearn.metrics import f1_score\n",
    "\n",
    "print('Traning score is:')\n",
    "f1_score(model.predict(x_train),y_train,sample_weight=w_train)"
   ]
  },
  {
   "cell_type": "code",
   "execution_count": 21,
   "metadata": {},
   "outputs": [
    {
     "name": "stdout",
     "output_type": "stream",
     "text": [
      "Testing score is:\n"
     ]
    },
    {
     "data": {
      "text/plain": [
       "0.48682327135303777"
      ]
     },
     "execution_count": 21,
     "metadata": {},
     "output_type": "execute_result"
    }
   ],
   "source": [
    "print('Testing score is:')\n",
    "f1_score(model.predict(x_test),y_test,sample_weight=w_test)"
   ]
  },
  {
   "cell_type": "markdown",
   "metadata": {},
   "source": [
    "# PCA\n",
    "Before trying another model, let's play with PCA a bit.\n",
    "Let's start with two components for visualization."
   ]
  },
  {
   "cell_type": "code",
   "execution_count": 34,
   "metadata": {},
   "outputs": [],
   "source": [
    "df_dummy,var_cont,var_disc = load_for_training(path_to_data, path_to_columns, make_dummies=True)"
   ]
  },
  {
   "cell_type": "code",
   "execution_count": 35,
   "metadata": {},
   "outputs": [],
   "source": [
    "df_dummy_train, df_dummy_test = train_test_split(df_dummy,\n",
    "                                     random_state=7,\n",
    "                                     test_size=0.20,\n",
    "                                     shuffle=True,\n",
    "                                     stratify=df['label_encoded'])"
   ]
  },
  {
   "cell_type": "code",
   "execution_count": 36,
   "metadata": {},
   "outputs": [],
   "source": [
    "from sklearn.decomposition import PCA\n",
    "pca = PCA(n_components=2)\n",
    "projected = pca.fit_transform(df_dummy_train.drop(columns=['instance weight', 'label_encoded']))"
   ]
  },
  {
   "cell_type": "code",
   "execution_count": 39,
   "metadata": {},
   "outputs": [
    {
     "data": {
      "text/plain": [
       "Text(0, 0.5, 'component 2')"
      ]
     },
     "execution_count": 39,
     "metadata": {},
     "output_type": "execute_result"
    },
    {
     "data": {
      "image/png": "[encoded data removed]",
      "text/plain": [
       "<Figure size 720x720 with 1 Axes>"
      ]
     },
     "metadata": {
      "needs_background": "light"
     },
     "output_type": "display_data"
    }
   ],
   "source": [
    "import matplotlib.pyplot as plt\n",
    "plt.figure(figsize=(10,10))\n",
    "plt.scatter(projected[:, 0], projected[:, 1],\n",
    "            c=df_dummy_train['label_encoded'],\n",
    "#             cmap=plt.cm.get_cmap('spectral', 10)\n",
    "           )\n",
    "plt.xlabel('component 1')\n",
    "plt.ylabel('component 2')"
   ]
  },
  {
   "cell_type": "markdown",
   "metadata": {},
   "source": [
    "Let's move on to feature selection."
   ]
  },
  {
   "cell_type": "code",
   "execution_count": 43,
   "metadata": {},
   "outputs": [
    {
     "data": {
      "image/png": "[encoded data removed]",
      "text/plain": [
       "<Figure size 720x720 with 1 Axes>"
      ]
     },
     "metadata": {
      "needs_background": "light"
     },
     "output_type": "display_data"
    }
   ],
   "source": [
    "import numpy as np\n",
    "pca = PCA().fit(df_dummy_train.drop(columns=['instance weight', 'label_encoded']))\n",
    "plt.figure(figsize=(10,10))\n",
    "plt.plot(np.cumsum(pca.explained_variance_ratio_))\n",
    "plt.xlabel('number of components')\n",
    "plt.ylabel('cumulative explained variance');"
   ]
  },
  {
   "cell_type": "code",
   "execution_count": 52,
   "metadata": {},
   "outputs": [
    {
     "data": {
      "text/plain": [
       "0.9942974188899795"
      ]
     },
     "execution_count": 52,
     "metadata": {},
     "output_type": "execute_result"
    }
   ],
   "source": [
    "pca.explained_variance_ratio_[0] + pca.explained_variance_ratio_[1]"
   ]
  },
  {
   "cell_type": "markdown",
   "metadata": {},
   "source": [
    "PCA does not seem to be super useful, the first two components essentially explain all the variance."
   ]
  },
  {
   "cell_type": "code",
   "execution_count": 53,
   "metadata": {},
   "outputs": [],
   "source": [
    "# split inputs, outputs, and weights\n",
    "x_train, y_train, w_train = df_train.drop(columns=['label_encoded', 'instance weight']), df_train['label_encoded'], df_train['instance weight']\n",
    "x_test, y_test, w_test = df_test.drop(columns=['label_encoded', 'instance weight']), df_test['label_encoded'], df_test['instance weight']"
   ]
  },
  {
   "cell_type": "code",
   "execution_count": 93,
   "metadata": {},
   "outputs": [],
   "source": [
    "from sklearn.pipeline import Pipeline\n",
    "from sklearn.preprocessing import OneHotEncoder, StandardScaler\n",
    "from sklearn.compose import ColumnTransformer\n",
    "from sklearn.linear_model import LogisticRegression\n",
    "from sklearn.ensemble import RandomForestClassifier\n",
    "\n",
    "\n",
    "\n",
    "col_pipe = ColumnTransformer(\n",
    "       # remainder='passthrough', # default is to drop other columns\n",
    "        transformers=[\n",
    "            ('std_scal', StandardScaler() , list(var_cont)),\n",
    "            ('one_hot', OneHotEncoder(handle_unknown='ignore') , list(var_disc))\n",
    "        ])\n",
    "\n",
    "model = Pipeline(steps=[ ('col_transf', col_pipe), ('randomforest', RandomForestClassifier(n_estimators=200)) ])\n",
    "# pipe = Pipeline(steps=[\n",
    "#     ('cols', col_pipe),\n",
    "#     ('clf', LogisticRegression(penalty='l1')) ])"
   ]
  },
  {
   "cell_type": "code",
   "execution_count": 94,
   "metadata": {},
   "outputs": [
    {
     "data": {
      "text/plain": [
       "Pipeline(memory=None,\n",
       "         steps=[('col_transf',\n",
       "                 ColumnTransformer(n_jobs=None, remainder='drop',\n",
       "                                   sparse_threshold=0.3,\n",
       "                                   transformer_weights=None,\n",
       "                                   transformers=[('std_scal',\n",
       "                                                  StandardScaler(copy=True,\n",
       "                                                                 with_mean=True,\n",
       "                                                                 with_std=True),\n",
       "                                                  ['wage per hour', 'age',\n",
       "                                                   'weeks worked in year',\n",
       "                                                   'dividends from stocks',\n",
       "                                                   'capital gains',\n",
       "                                                   'capital losses',\n",
       "                                                   'num persons worked for '\n",
       "                                                   'employer']),\n",
       "                                                 ('one_...\n",
       "                 RandomForestClassifier(bootstrap=True, class_weight=None,\n",
       "                                        criterion='gini', max_depth=None,\n",
       "                                        max_features='auto',\n",
       "                                        max_leaf_nodes=None,\n",
       "                                        min_impurity_decrease=0.0,\n",
       "                                        min_impurity_split=None,\n",
       "                                        min_samples_leaf=1, min_samples_split=2,\n",
       "                                        min_weight_fraction_leaf=0.0,\n",
       "                                        n_estimators=200, n_jobs=None,\n",
       "                                        oob_score=False, random_state=None,\n",
       "                                        verbose=0, warm_start=False))],\n",
       "         verbose=False)"
      ]
     },
     "execution_count": 94,
     "metadata": {},
     "output_type": "execute_result"
    }
   ],
   "source": [
    "model.fit(x_train,y_train,randomforest__sample_weight=w_train)"
   ]
  },
  {
   "cell_type": "code",
   "execution_count": 95,
   "metadata": {},
   "outputs": [
    {
     "name": "stdout",
     "output_type": "stream",
     "text": [
      "Traning score is:\n"
     ]
    },
    {
     "data": {
      "text/plain": [
       "0.98996128062211"
      ]
     },
     "execution_count": 95,
     "metadata": {},
     "output_type": "execute_result"
    }
   ],
   "source": [
    "from sklearn.metrics import f1_score\n",
    "\n",
    "print('Traning score is:')\n",
    "f1_score(model.predict(x_train),y_train,sample_weight=w_train)"
   ]
  },
  {
   "cell_type": "code",
   "execution_count": 96,
   "metadata": {},
   "outputs": [
    {
     "name": "stdout",
     "output_type": "stream",
     "text": [
      "Testing score is:\n"
     ]
    },
    {
     "data": {
      "text/plain": [
       "0.5122404669603493"
      ]
     },
     "execution_count": 96,
     "metadata": {},
     "output_type": "execute_result"
    }
   ],
   "source": [
    "print('Testing score is:')\n",
    "f1_score(model.predict(x_test),y_test,sample_weight=w_test)"
   ]
  },
  {
   "cell_type": "code",
   "execution_count": 98,
   "metadata": {},
   "outputs": [],
   "source": [
    "# 20 trees 49 f1 score\n",
    "# 40 trees 50 f1 score\n",
    "# 80 trees 51 f1 score\n",
    "# 200 trees 51 f1 score"
   ]
  },
  {
   "cell_type": "code",
   "execution_count": 108,
   "metadata": {},
   "outputs": [
    {
     "data": {
      "text/plain": [
       "0.9325767394775789"
      ]
     },
     "execution_count": 108,
     "metadata": {},
     "output_type": "execute_result"
    }
   ],
   "source": [
    "from sklearn.metrics import roc_auc_score\n",
    "\n",
    "y_hat = model.predict_proba(x_test)[:,1]\n",
    "roc_auc_score(y_test,y_hat)"
   ]
  },
  {
   "cell_type": "code",
   "execution_count": 111,
   "metadata": {},
   "outputs": [
    {
     "data": {
      "text/plain": [
       "0.9998462031284736"
      ]
     },
     "execution_count": 111,
     "metadata": {},
     "output_type": "execute_result"
    }
   ],
   "source": [
    "y_train_hat = model.predict_proba(x_train)[:,1]\n",
    "roc_auc_score(y_train,y_train_hat)"
   ]
  },
  {
   "cell_type": "code",
   "execution_count": 106,
   "metadata": {},
   "outputs": [
    {
     "data": {
      "text/plain": [
       "0.03253469150801062"
      ]
     },
     "execution_count": 106,
     "metadata": {},
     "output_type": "execute_result"
    }
   ],
   "source": [
    "from sklearn.metrics import average_precision_score\n",
    "average_precision_score(y_test, y_hat)\n",
    "\n"
   ]
  },
  {
   "cell_type": "code",
   "execution_count": 107,
   "metadata": {},
   "outputs": [
    {
     "data": {
      "text/plain": [
       "0.9513344192457086"
      ]
     },
     "execution_count": 107,
     "metadata": {},
     "output_type": "execute_result"
    }
   ],
   "source": [
    "model.score(x_test,y_test)"
   ]
  },
  {
   "cell_type": "code",
   "execution_count": 116,
   "metadata": {},
   "outputs": [
    {
     "name": "stdout",
     "output_type": "stream",
     "text": [
      "For threshold 0.1, f1 score is 0.47299509001636664\n",
      "For threshold 0.3, f1 score is 0.564976076555024\n",
      "For threshold 0.35, f1 score is 0.5610915856936118\n",
      "For threshold 0.4, f1 score is 0.5540450189436148\n",
      "For threshold 0.45, f1 score is 0.5335546597106947\n",
      "For threshold 0.5, f1 score is 0.5098435133770822\n",
      "For threshold 0.7, f1 score is 0.3595858173831189\n"
     ]
    }
   ],
   "source": [
    "y_hat = model.predict_proba(x_test)[:,1]\n",
    "for t in [0.1,0.3,0.35,0.4,0.45,0.5,0.7]:\n",
    "    y_pred = (y_hat > t)\n",
    "    y_pred = y_pred.astype('int')\n",
    "    fs = f1_score(y_test,y_pred)\n",
    "    print(f\"For threshold {t}, f1 score is {fs}\")"
   ]
  },
  {
   "cell_type": "code",
   "execution_count": 121,
   "metadata": {},
   "outputs": [],
   "source": [
    "from sklearn.metrics import precision_recall_curve\n",
    "def make_prec_rec_curve(y_test, y_hat, fig_size_x=8, fig_size_y=8, save_path=None):\n",
    "#     from sklearn.metrics import precision_recall_curve\n",
    "#     import matplotlib.pyplot as plt\n",
    "#     import seaborn as sns\n",
    "#     import numpy as np\n",
    "    precision, recall, thresholds = precision_recall_curve(y_test, y_hat)\n",
    "\n",
    "    plt.figure(figsize=(fig_size_x,fig_size_y))\n",
    "    plt.plot(precision, recall, label='precision recall curve')\n",
    "    plt.xlabel(\"Precision = TP/(TP+FP) = TP/predicted positive\")\n",
    "    plt.ylabel(\"Recall = TP/(TP+FN) = TP/actually positive\")\n",
    "\n",
    "    t_half = np.argmin(np.abs(thresholds - 0.5))\n",
    "    plt.plot(precision[t_half],recall[t_half],'o',label=\"threshold = 1/2\",fillstyle='none', markersize=10)\n",
    "\n",
    "    plt.legend()\n",
    "    sns.despine()\n",
    "\n",
    "    if save_path:\n",
    "        plt.savefig(save_path)\n"
   ]
  },
  {
   "cell_type": "code",
   "execution_count": 122,
   "metadata": {},
   "outputs": [
    {
     "ename": "NameError",
     "evalue": "name 'sns' is not defined",
     "output_type": "error",
     "traceback": [
      "\u001b[0;31m---------------------------------------------------------------------------\u001b[0m",
      "\u001b[0;31mNameError\u001b[0m                                 Traceback (most recent call last)",
      "\u001b[0;32m<ipython-input-122-b3b21b66f1cc>\u001b[0m in \u001b[0;36m<module>\u001b[0;34m\u001b[0m\n\u001b[0;32m----> 1\u001b[0;31m \u001b[0mmake_prec_rec_curve\u001b[0m\u001b[0;34m(\u001b[0m\u001b[0my_test\u001b[0m\u001b[0;34m,\u001b[0m\u001b[0my_hat\u001b[0m\u001b[0;34m)\u001b[0m\u001b[0;34m\u001b[0m\u001b[0;34m\u001b[0m\u001b[0m\n\u001b[0m",
      "\u001b[0;32m<ipython-input-121-9dbc91588d68>\u001b[0m in \u001b[0;36mmake_prec_rec_curve\u001b[0;34m(y_test, y_hat, fig_size_x, fig_size_y, save_path)\u001b[0m\n\u001b[1;32m     16\u001b[0m \u001b[0;34m\u001b[0m\u001b[0m\n\u001b[1;32m     17\u001b[0m     \u001b[0mplt\u001b[0m\u001b[0;34m.\u001b[0m\u001b[0mlegend\u001b[0m\u001b[0;34m(\u001b[0m\u001b[0;34m)\u001b[0m\u001b[0;34m\u001b[0m\u001b[0;34m\u001b[0m\u001b[0m\n\u001b[0;32m---> 18\u001b[0;31m     \u001b[0msns\u001b[0m\u001b[0;34m.\u001b[0m\u001b[0mdespine\u001b[0m\u001b[0;34m(\u001b[0m\u001b[0;34m)\u001b[0m\u001b[0;34m\u001b[0m\u001b[0;34m\u001b[0m\u001b[0m\n\u001b[0m\u001b[1;32m     19\u001b[0m \u001b[0;34m\u001b[0m\u001b[0m\n\u001b[1;32m     20\u001b[0m     \u001b[0;32mif\u001b[0m \u001b[0msave_path\u001b[0m\u001b[0;34m:\u001b[0m\u001b[0;34m\u001b[0m\u001b[0;34m\u001b[0m\u001b[0m\n",
      "\u001b[0;31mNameError\u001b[0m: name 'sns' is not defined"
     ]
    },
    {
     "data": {
      "image/png": "[encoded data removed]",
      "text/plain": [
       "<Figure size 576x576 with 1 Axes>"
      ]
     },
     "metadata": {
      "needs_background": "light"
     },
     "output_type": "display_data"
    }
   ],
   "source": [
    "make_prec_rec_curve(y_test,y_hat)"
   ]
  },
  {
   "cell_type": "code",
   "execution_count": 129,
   "metadata": {},
   "outputs": [],
   "source": [
    "def make_roc(y_test,y_hat,fig_size_x=8,fig_size_y=8,save_path=None):\n",
    "    from sklearn.metrics import roc_curve\n",
    "    import seaborn as sns\n",
    "#     import numpy as np\n",
    "#     import matplotlib.pyplot as plt\n",
    "#     import seaborn as sns\n",
    "    fpr, tpr, thresholds = roc_curve(y_test,y_hat)\n",
    "\n",
    "    plt.figure(figsize=(fig_size_x,fig_size_y))\n",
    "    plt.plot(fpr,tpr,label='ROC curve')\n",
    "    plt.ylabel('TPR = TP/(TP+FN) = Recall')\n",
    "    plt.xlabel('FPR = FP/(FP+TN)')\n",
    "\n",
    "    t_half = np.argmin(np.abs(thresholds - 0.5))\n",
    "    plt.plot(fpr[t_half],tpr[t_half], 'o', label='threshold = 1/2', fillstyle='none', markersize=10)\n",
    "\n",
    "    plt.legend()\n",
    "    sns.despine()\n",
    "    \n",
    "    if save_path:\n",
    "        plt.savefig(save_path)\n"
   ]
  },
  {
   "cell_type": "code",
   "execution_count": 130,
   "metadata": {},
   "outputs": [
    {
     "data": {
      "image/png": "[encoded data removed]",
      "text/plain": [
       "<Figure size 576x576 with 1 Axes>"
      ]
     },
     "metadata": {
      "needs_background": "light"
     },
     "output_type": "display_data"
    }
   ],
   "source": [
    "make_roc(y_test,y_hat)"
   ]
  },
  {
   "cell_type": "code",
   "execution_count": null,
   "metadata": {},
   "outputs": [],
   "source": []
  }
 ],
 "metadata": {
  "kernelspec": {
   "display_name": "Python 3",
   "language": "python",
   "name": "python3"
  },
  "language_info": {
   "codemirror_mode": {
    "name": "ipython",
    "version": 3
   },
   "file_extension": ".py",
   "mimetype": "text/x-python",
   "name": "python",
   "nbconvert_exporter": "python",
   "pygments_lexer": "ipython3",
   "version": "3.7.3"
  }
 },
 "nbformat": 4,
 "nbformat_minor": 4
}
